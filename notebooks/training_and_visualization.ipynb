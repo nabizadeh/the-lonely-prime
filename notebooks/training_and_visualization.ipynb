{
 "cells": [
  {
   "cell_type": "markdown",
   "id": "8cb16913-f43c-4bc7-a15e-34542d0ccd5d",
   "metadata": {},
   "source": [
    "## 1. Generating Descriptive Sentences for Numbers (1–50)\n",
    "\n",
    "This section defines a function to identify prime numbers and uses it to generate natural language descriptions for the numbers 1 through 50. \n",
    "Each number is labeled as either prime or composite, and as even or odd. The generated sentences are saved to a text file for further use in downstream tasks."
   ]
  },
  {
   "cell_type": "code",
   "execution_count": 17,
   "id": "3b4150b8-97e4-4e93-b746-39d3ba9303e9",
   "metadata": {},
   "outputs": [],
   "source": [
    "import sys\n",
    "sys.path.append('../src')  # Add the src folder to the path\n",
    "\n",
    "from utils import generate_number_sentences, save_sentences_to_file\n",
    "\n",
    "# Generate and save sentences\n",
    "sentences = generate_number_sentences()\n",
    "save_sentences_to_file(sentences, \"../data/numbers.txt\")"
   ]
  },
  {
   "cell_type": "markdown",
   "id": "6b740db0-bc9e-485a-8ae4-81fe16931350",
   "metadata": {},
   "source": [
    "## 2. Tokenizing Sentences and Building Vocabulary\n",
    "\n",
    "This section processes the generated number descriptions by converting them into lowercase tokens and removing punctuation. \n",
    "The result is a list of tokenized sentences, each represented as a list of words. Additionally, a unique vocabulary set is built to track all distinct words across the dataset.\n",
    "This step prepares the data for tasks such as word embedding training or further text analysis."
   ]
  },
  {
   "cell_type": "code",
   "execution_count": 18,
   "id": "ed951cdf-cbda-4e8e-b5ce-89361a1949f4",
   "metadata": {},
   "outputs": [
    {
     "name": "stdout",
     "output_type": "stream",
     "text": [
      "A few tokenized sentences:  [['1', 'is', 'a', 'composite', 'number'], ['1', 'is', 'an', 'odd', 'number'], ['2', 'is', 'a', 'prime', 'number'], ['2', 'is', 'an', 'even', 'number'], ['3', 'is', 'a', 'prime', 'number'], ['3', 'is', 'an', 'odd', 'number'], ['4', 'is', 'a', 'composite', 'number'], ['4', 'is', 'an', 'even', 'number'], ['5', 'is', 'a', 'prime', 'number'], ['5', 'is', 'an', 'odd', 'number']]\n"
     ]
    }
   ],
   "source": [
    "import re\n",
    "\n",
    "with open(\"../data/numbers.txt\", \"r\") as f:\n",
    "    sentences = [line.strip() for line in f.readlines()]\n",
    "\n",
    "# Function to tokenize a sentence:\n",
    "# - Converts to lowercase\n",
    "# - Removes punctuation\n",
    "# - Splits into individual words\n",
    "def tokenize(sentence: str) -> list[str]:\n",
    "    sentence = sentence.lower()  # convert all text to lowercase\n",
    "    sentence = re.sub(r\"[^\\w\\s]\", \"\", sentence)  # remove punctuation using regex\n",
    "    return sentence.split()  # split by whitespace\n",
    "\n",
    "# Apply the tokenizer to each sentence\n",
    "tokenized_sentences = [tokenize(sentence) for sentence in sentences]\n",
    "\n",
    "# Build a set of all unique words (vocabulary)\n",
    "all_words = set()\n",
    "for sentence in tokenized_sentences:\n",
    "    for word in sentence:\n",
    "        all_words.add(word)\n",
    "\n",
    "# Display a sample of the tokenized sentences\n",
    "print(\"A few tokenized sentences: \", tokenized_sentences[:10])"
   ]
  },
  {
   "cell_type": "markdown",
   "id": "06da870d-3ebd-4a7c-ba9f-ba6a2fbbdd57",
   "metadata": {},
   "source": [
    "## 3. Training a Byte-Pair Encoding (BPE) Tokenizer with SentencePiece\n",
    "\n",
    "This section uses the SentencePiece library to train a subword tokenizer on the number description sentences. \n",
    "The training data is first written to a temporary file, and then a Byte-Pair Encoding (BPE) model is trained with a vocabulary size of 36.\n",
    "The resulting tokenizer model is then loaded and used to tokenize a sample sentence. This approach allows flexible tokenization \n",
    "that can handle rare or out-of-vocabulary words by breaking them into subword units."
   ]
  },
  {
   "cell_type": "code",
   "execution_count": 19,
   "id": "0858a94a-f6ab-4e23-a447-35ef93ade8e5",
   "metadata": {},
   "outputs": [
    {
     "name": "stdout",
     "output_type": "stream",
     "text": [
      "The tokenized output is:  ['▁', '7', '▁', 'i', 's', '▁a', 'n', '▁', 'o', 'd', 'd', '▁', 'n', 'u', 'm', 'b', 'e', 'r', '.']\n"
     ]
    },
    {
     "name": "stderr",
     "output_type": "stream",
     "text": [
      "sentencepiece_trainer.cc(78) LOG(INFO) Starts training with : \n",
      "trainer_spec {\n",
      "  input: tokenizer_data.txt\n",
      "  input_format: \n",
      "  model_prefix: bpe_tokenizer\n",
      "  model_type: UNIGRAM\n",
      "  vocab_size: 36\n",
      "  self_test_sample_size: 0\n",
      "  character_coverage: 0.9995\n",
      "  input_sentence_size: 0\n",
      "  shuffle_input_sentence: 1\n",
      "  seed_sentencepiece_size: 1000000\n",
      "  shrinking_factor: 0.75\n",
      "  max_sentence_length: 4192\n",
      "  num_threads: 16\n",
      "  num_sub_iterations: 2\n",
      "  max_sentencepiece_length: 16\n",
      "  split_by_unicode_script: 1\n",
      "  split_by_number: 1\n",
      "  split_by_whitespace: 1\n",
      "  split_digits: 0\n",
      "  pretokenization_delimiter: \n",
      "  treat_whitespace_as_suffix: 0\n",
      "  allow_whitespace_only_pieces: 0\n",
      "  required_chars: \n",
      "  byte_fallback: 0\n",
      "  vocabulary_output_piece_score: 1\n",
      "  train_extremely_large_corpus: 0\n",
      "  seed_sentencepieces_file: \n",
      "  hard_vocab_limit: 1\n",
      "  use_all_vocab: 0\n",
      "  unk_id: 0\n",
      "  bos_id: 1\n",
      "  eos_id: 2\n",
      "  pad_id: -1\n",
      "  unk_piece: <unk>\n",
      "  bos_piece: <s>\n",
      "  eos_piece: </s>\n",
      "  pad_piece: <pad>\n",
      "  unk_surface:  ⁇ \n",
      "  enable_differential_privacy: 0\n",
      "  differential_privacy_noise_level: 0\n",
      "  differential_privacy_clipping_threshold: 0\n",
      "}\n",
      "normalizer_spec {\n",
      "  name: nmt_nfkc\n",
      "  add_dummy_prefix: 1\n",
      "  remove_extra_whitespaces: 1\n",
      "  escape_whitespaces: 1\n",
      "  normalization_rule_tsv: \n",
      "}\n",
      "denormalizer_spec {}\n",
      "trainer_interface.cc(353) LOG(INFO) SentenceIterator is not specified. Using MultiFileSentenceIterator.\n",
      "trainer_interface.cc(185) LOG(INFO) Loading corpus: tokenizer_data.txt\n",
      "trainer_interface.cc(409) LOG(INFO) Loaded all 100 sentences\n",
      "trainer_interface.cc(425) LOG(INFO) Adding meta_piece: <unk>\n",
      "trainer_interface.cc(425) LOG(INFO) Adding meta_piece: <s>\n",
      "trainer_interface.cc(425) LOG(INFO) Adding meta_piece: </s>\n",
      "trainer_interface.cc(430) LOG(INFO) Normalizing sentences...\n",
      "trainer_interface.cc(539) LOG(INFO) all chars count=2297\n",
      "trainer_interface.cc(560) LOG(INFO) Alphabet size=27\n",
      "trainer_interface.cc(561) LOG(INFO) Final character coverage=1\n",
      "trainer_interface.cc(592) LOG(INFO) Done! preprocessed 100 sentences.\n",
      "unigram_model_trainer.cc(265) LOG(INFO) Making suffix array...\n",
      "unigram_model_trainer.cc(269) LOG(INFO) Extracting frequent sub strings... node_num=917\n",
      "unigram_model_trainer.cc(312) LOG(INFO) Initialized 33 seed sentencepieces\n",
      "trainer_interface.cc(598) LOG(INFO) Tokenizing input sentences with whitespace: 100\n",
      "trainer_interface.cc(609) LOG(INFO) Done! 58\n",
      "unigram_model_trainer.cc(602) LOG(INFO) Using 58 sentences for EM training\n",
      "unigram_model_trainer.cc(618) LOG(INFO) EM sub_iter=0 size=33 obj=12.7158 num_tokens=134 num_tokens/piece=4.06061\n",
      "unigram_model_trainer.cc(618) LOG(INFO) EM sub_iter=1 size=33 obj=12.4286 num_tokens=134 num_tokens/piece=4.06061\n",
      "trainer_interface.cc(687) LOG(INFO) Saving model: bpe_tokenizer.model\n",
      "trainer_interface.cc(699) LOG(INFO) Saving vocabs: bpe_tokenizer.vocab\n"
     ]
    }
   ],
   "source": [
    "import sentencepiece as spm\n",
    "\n",
    "# create a temporary file to save adta for training the tokenizers\n",
    "with open(\"tokenizer_data.txt\", \"w\", encoding = \"utf-8\") as f:\n",
    "    for sentence in sentences:\n",
    "        f.write(sentence + \"\\n\")\n",
    "\n",
    "# train a Byte Pair Encoding (BPE) tokenizer\n",
    "spm.SentencePieceTrainer.Train(input=\"tokenizer_data.txt\", model_prefix=\"bpe_tokenizer\", vocab_size=36)\n",
    "\n",
    "# load trained tokenizer\n",
    "sp = spm.SentencePieceProcessor(model_file = \"bpe_tokenizer.model\")\n",
    "\n",
    "# Example tokenization\n",
    "test_sentence = \"7 is an odd number.\"\n",
    "print(\"The tokenized output is: \", sp.encode(test_sentence, out_type = str))"
   ]
  },
  {
   "cell_type": "markdown",
   "id": "9bdc9456-722f-4bfb-8f08-2b04fed04a96",
   "metadata": {},
   "source": [
    "## 4. Training a Word2Vec Model and Exploring Number Semantics\n",
    "\n",
    "This section trains a Word2Vec embedding model using the tokenized number description sentences. \n",
    "The model learns vector representations for words based on their context within a window size of 5. \n",
    "After training for 5000 epochs, the model is saved and reloaded for evaluation. \n",
    "To explore semantic relationships learned by the model, word similarity scores are computed between selected pairs of numbers, \n",
    "highlighting how the model captures numerical and categorical properties like \"even\", \"prime\", and \"composite\"."
   ]
  },
  {
   "cell_type": "code",
   "execution_count": 20,
   "id": "81374745-0874-4259-a30f-9d0eeddd225b",
   "metadata": {},
   "outputs": [
    {
     "name": "stdout",
     "output_type": "stream",
     "text": [
      "\n",
      "Word Similarity (Two composite evens):\n",
      "4-6:  0.99618584\n",
      "\n",
      "Word Similarity (A composite and a prime even):\n",
      "2-4:  0.6828419\n",
      "\n",
      "Word Similarity (A composite even and a prime odd):\n",
      "4-7:  0.47457486\n"
     ]
    }
   ],
   "source": [
    "from gensim.models import Word2Vec\n",
    "\n",
    "# Train a Word2Vec model on the tokenized sentences\n",
    "# - vector_size: dimension of word embeddings\n",
    "# - window: context window size\n",
    "# - min_count: ignore words with lower frequency\n",
    "# - workers: number of threads to use\n",
    "# - epochs: number of training iterations\n",
    "word2vec_model = Word2Vec(sentences=tokenized_sentences, vector_size=35, window=5, min_count=1, workers=4, epochs=5000)\n",
    "\n",
    "# Save and reload the trained model\n",
    "word2vec_model.save('word2vec.model')\n",
    "word2vec_model = Word2Vec.load('word2vec.model')\n",
    "\n",
    "# Evaluate similarity between selected word pairs\n",
    "print(\"\\nWord Similarity (Two composite evens):\")\n",
    "print(\"4-6: \", word2vec_model.wv.similarity(\"4\", \"6\"))\n",
    "\n",
    "print(\"\\nWord Similarity (A composite and a prime even):\")\n",
    "print(\"2-4: \", word2vec_model.wv.similarity(\"2\", \"4\"))\n",
    "\n",
    "print(\"\\nWord Similarity (A composite even and a prime odd):\")\n",
    "print(\"4-7: \", word2vec_model.wv.similarity(\"4\", \"7\"))"
   ]
  },
  {
   "cell_type": "markdown",
   "id": "4e3dfddd-b624-4910-b60a-1e5ccc212fee",
   "metadata": {},
   "source": [
    "## 5. Visualizing Word Embeddings with PCA\n",
    "\n",
    "This section visualizes the Word2Vec embeddings learned in the previous step by projecting the high-dimensional vectors into a 2D space using Principal Component Analysis (PCA).\n",
    "Each word (or number) is plotted on a 2D scatter plot, labeled with its corresponding token. \n",
    "This visualization helps illustrate how the model has grouped semantically or structurally similar words (e.g., prime numbers, even numbers) based on their contextual similarity in the training corpus."
   ]
  },
  {
   "cell_type": "code",
   "execution_count": 21,
   "id": "55083ad4-ab64-4006-8e34-0ceaa9464854",
   "metadata": {},
   "outputs": [
    {
     "data": {
      "image/png": "[encoded data removed]",
      "text/plain": [
       "<Figure size 800x600 with 1 Axes>"
      ]
     },
     "metadata": {},
     "output_type": "display_data"
    }
   ],
   "source": [
    "import matplotlib.pyplot as plt\n",
    "from sklearn.decomposition import PCA\n",
    "\n",
    "# Get the word embeddings from word2vec\n",
    "words = list(word2vec_model.wv.index_to_key)\n",
    "vectors = [word2vec_model.wv[word] for word in words]\n",
    "\n",
    "# Reduce to 2D using PCA\n",
    "pca = PCA(n_components = 2)\n",
    "reduced_vectors = pca.fit_transform(vectors)\n",
    "\n",
    "# plot embeddings\n",
    "plt.figure(figsize = (8,6))\n",
    "for i, word in enumerate(words):\n",
    "    plt.scatter(reduced_vectors[i,0], reduced_vectors[i,1], marker = 'o')\n",
    "    plt.text(reduced_vectors[i,0] + 0.004, reduced_vectors[i, 1], word, fontsize = 8)\n",
    "\n",
    "plt.title(\"Word Embeddings\")\n",
    "plt.xlabel(\"PCA component 1\")\n",
    "plt.ylabel(\"PCA component 2\")\n",
    "plt.show()"
   ]
  },
  {
   "cell_type": "markdown",
   "id": "1731eddf-f820-4c1e-a7b3-0a93742b2dad",
   "metadata": {},
   "source": [
    "## 6. Tracking Word Embedding Evolution Over Training Epochs\n",
    "This section investigates how word embeddings evolve as the Word2Vec model is trained with an increasing number of epochs.\n",
    "Using a logarithmic scale of training epochs, a new Word2Vec model is trained at each step, and its word vectors are projected into 2D space using PCA.\n",
    "The resulting 2D coordinates are saved into CSV files for each epoch, enabling later visualization or animation of how semantic structures (e.g., clusters of primes or evens) emerge and stabilize during training.\n",
    "This temporal analysis provides insights into the convergence behavior of the embedding model."
   ]
  },
  {
   "cell_type": "code",
   "execution_count": 16,
   "id": "dd33e78c-394d-4a96-80a0-3ecbd8cf55ee",
   "metadata": {},
   "outputs": [],
   "source": [
    "import os\n",
    "import pandas as pd\n",
    "import numpy as np\n",
    "\n",
    "epoch_list = np.unique(np.round(np.logspace(np.log10(1), np.log10(5000), num=100)).astype(int))\n",
    "\n",
    "for n_epochs in epoch_list:\n",
    "    word2vec_model=Word2Vec(\n",
    "        sentences=tokenized_sentences,\n",
    "        vector_size=35,\n",
    "        window=10,\n",
    "        min_count=1,\n",
    "        sg=1,\n",
    "        negative=10,\n",
    "        epochs=n_epochs,\n",
    "        workers=4,\n",
    "        seed=412\n",
    "    )\n",
    "\n",
    "    words = list(word2vec_model.wv.index_to_key)\n",
    "    vectors = [word2vec_model.wv[word] for word in words]\n",
    "\n",
    "    pca = PCA(n_components = 2)\n",
    "    reduced_vectors = pca.fit_transform(vectors)\n",
    "\n",
    "    # create dataframe for reduced vectors\n",
    "    df = pd.DataFrame(reduced_vectors, columns = ['x', 'y'])\n",
    "    df['word'] = words \n",
    "\n",
    "    os.makedirs('pca_vectors', exist_ok = True)\n",
    "    df.to_csv(f'../outputs/pca_vectors/word_embeddings_{n_epochs}.csv', index = False)"
   ]
  },
  {
   "cell_type": "markdown",
   "id": "ab934578-29c7-4bb5-af65-717c6c4cb6ff",
   "metadata": {},
   "source": [
    "🔍 **Further Visualization**\n",
    "\n",
    "For a detailed visualization of how the word embeddings evolve across training epochs, including semantic clustering of numbers (e.g., odd vs. even, prime vs. composite), please refer to the companion R Markdown notebook:\n",
    "\n",
    "visualize_embeddings.Rmd\n",
    "\n",
    "It includes PCA-based projections, dynamic grouping, and color-coded plots that illustrate the structure learned by the Word2Vec model over time."
   ]
  }
 ],
 "metadata": {
  "kernelspec": {
   "display_name": "Python 3 (ipykernel)",
   "language": "python",
   "name": "python3"
  },
  "language_info": {
   "codemirror_mode": {
    "name": "ipython",
    "version": 3
   },
   "file_extension": ".py",
   "mimetype": "text/x-python",
   "name": "python",
   "nbconvert_exporter": "python",
   "pygments_lexer": "ipython3",
   "version": "3.12.2"
  }
 },
 "nbformat": 4,
 "nbformat_minor": 5
}
